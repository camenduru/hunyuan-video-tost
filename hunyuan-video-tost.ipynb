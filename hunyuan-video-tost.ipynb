{
 "cells": [
  {
   "cell_type": "code",
   "execution_count": null,
   "metadata": {
    "vscode": {
     "languageId": "plaintext"
    }
   },
   "outputs": [],
   "source": [
    "!pip install torch==2.5.1+cu124 torchvision==0.20.1+cu124 torchaudio==2.5.1+cu124 torchtext==0.18.0 torchdata==0.8.0 --extra-index-url https://download.pytorch.org/whl/cu124\n",
    "!pip install xformers==0.0.28.post3\n",
    "\n",
    "!pip install loguru imageio imageio[ffmpeg] diffusers transformers accelerate\n",
    "!pip install https://github.com/Dao-AILab/flash-attention/releases/download/v2.6.3/flash_attn-2.6.3+cu123torch2.3cxx11abiFALSE-cp310-cp310-linux_x86_64.whl\n",
    "\n",
    "!apt update && apt install aria2 -y\n",
    "\n",
    "%cd /workspace\n",
    "!git clone https://github.com/Tencent/HunyuanVideo\n",
    "%cd /workspace/HunyuanVideo\n",
    "\n",
    "!aria2c --console-log-level=error -c -x 16 -s 16 -k 1M https://huggingface.co/camenduru/HunyuanVideo/resolve/main/hunyuan-video-t2v-720p/transformers/mp_rank_00_model_states.pt -d /workspace/HunyuanVideo/ckpts/hunyuan-video-t2v-720p/transformers -o mp_rank_00_model_states.pt\n",
    "!aria2c --console-log-level=error -c -x 16 -s 16 -k 1M https://huggingface.co/camenduru/HunyuanVideo/raw/main/hunyuan-video-t2v-720p/vae/config.json -d /workspace/HunyuanVideo/ckpts/hunyuan-video-t2v-720p/vae -o config.json\n",
    "!aria2c --console-log-level=error -c -x 16 -s 16 -k 1M https://huggingface.co/camenduru/HunyuanVideo/resolve/main/hunyuan-video-t2v-720p/vae/pytorch_model.pt -d /workspace/HunyuanVideo/ckpts/hunyuan-video-t2v-720p/vae -o pytorch_model.pt\n",
    "!aria2c --console-log-level=error -c -x 16 -s 16 -k 1M https://huggingface.co/camenduru/HunyuanVideo/raw/main/text_encoder/config.json -d /workspace/HunyuanVideo/ckpts/text_encoder -o config.json\n",
    "!aria2c --console-log-level=error -c -x 16 -s 16 -k 1M https://huggingface.co/camenduru/HunyuanVideo/raw/main/text_encoder/generation_config.json -d /workspace/HunyuanVideo/ckpts/text_encoder -o generation_config.json\n",
    "!aria2c --console-log-level=error -c -x 16 -s 16 -k 1M https://huggingface.co/camenduru/HunyuanVideo/resolve/main/text_encoder/model-00001-of-00004.safetensors -d /workspace/HunyuanVideo/ckpts/text_encoder -o model-00001-of-00004.safetensors\n",
    "!aria2c --console-log-level=error -c -x 16 -s 16 -k 1M https://huggingface.co/camenduru/HunyuanVideo/resolve/main/text_encoder/model-00002-of-00004.safetensors -d /workspace/HunyuanVideo/ckpts/text_encoder -o model-00002-of-00004.safetensors\n",
    "!aria2c --console-log-level=error -c -x 16 -s 16 -k 1M https://huggingface.co/camenduru/HunyuanVideo/resolve/main/text_encoder/model-00003-of-00004.safetensors -d /workspace/HunyuanVideo/ckpts/text_encoder -o model-00003-of-00004.safetensors\n",
    "!aria2c --console-log-level=error -c -x 16 -s 16 -k 1M https://huggingface.co/camenduru/HunyuanVideo/resolve/main/text_encoder/model-00004-of-00004.safetensors -d /workspace/HunyuanVideo/ckpts/text_encoder -o model-00004-of-00004.safetensors\n",
    "!aria2c --console-log-level=error -c -x 16 -s 16 -k 1M https://huggingface.co/camenduru/HunyuanVideo/raw/main/text_encoder/model.safetensors.index.json -d /workspace/HunyuanVideo/ckpts/text_encoder -o model.safetensors.index.json\n",
    "!aria2c --console-log-level=error -c -x 16 -s 16 -k 1M https://huggingface.co/camenduru/HunyuanVideo/raw/main/text_encoder/special_tokens_map.json -d /workspace/HunyuanVideo/ckpts/text_encoder -o special_tokens_map.json\n",
    "!aria2c --console-log-level=error -c -x 16 -s 16 -k 1M https://huggingface.co/camenduru/HunyuanVideo/resolve/main/text_encoder/tokenizer.json -d /workspace/HunyuanVideo/ckpts/text_encoder -o tokenizer.json\n",
    "!aria2c --console-log-level=error -c -x 16 -s 16 -k 1M https://huggingface.co/camenduru/HunyuanVideo/raw/main/text_encoder/tokenizer_config.json -d /workspace/HunyuanVideo/ckpts/text_encoder -o tokenizer_config.json\n",
    "!aria2c --console-log-level=error -c -x 16 -s 16 -k 1M https://huggingface.co/camenduru/HunyuanVideo/raw/main/text_encoder_2/config.json -d /workspace/HunyuanVideo/ckpts/text_encoder_2 -o config.json\n",
    "!aria2c --console-log-level=error -c -x 16 -s 16 -k 1M https://huggingface.co/camenduru/HunyuanVideo/raw/main/text_encoder_2/merges.txt -d /workspace/HunyuanVideo/ckpts/text_encoder_2 -o merges.txt\n",
    "!aria2c --console-log-level=error -c -x 16 -s 16 -k 1M https://huggingface.co/camenduru/HunyuanVideo/resolve/main/text_encoder_2/model.safetensors -d /workspace/HunyuanVideo/ckpts/text_encoder_2 -o model.safetensors\n",
    "!aria2c --console-log-level=error -c -x 16 -s 16 -k 1M https://huggingface.co/camenduru/HunyuanVideo/raw/main/text_encoder_2/preprocessor_config.json -d /workspace/HunyuanVideo/ckpts/text_encoder_2 -o preprocessor_config.json\n",
    "!aria2c --console-log-level=error -c -x 16 -s 16 -k 1M https://huggingface.co/camenduru/HunyuanVideo/resolve/main/text_encoder_2/pytorch_model.bin -d /workspace/HunyuanVideo/ckpts/text_encoder_2 -o pytorch_model.bin\n",
    "!aria2c --console-log-level=error -c -x 16 -s 16 -k 1M https://huggingface.co/camenduru/HunyuanVideo/raw/main/text_encoder_2/special_tokens_map.json -d /workspace/HunyuanVideo/ckpts/text_encoder_2 -o special_tokens_map.json\n",
    "!aria2c --console-log-level=error -c -x 16 -s 16 -k 1M https://huggingface.co/camenduru/HunyuanVideo/raw/main/text_encoder_2/tokenizer.json -d /workspace/HunyuanVideo/ckpts/text_encoder_2 -o tokenizer.json\n",
    "!aria2c --console-log-level=error -c -x 16 -s 16 -k 1M https://huggingface.co/camenduru/HunyuanVideo/raw/main/text_encoder_2/tokenizer_config.json -d /workspace/HunyuanVideo/ckpts/text_encoder_2 -o tokenizer_config.json\n",
    "!aria2c --console-log-level=error -c -x 16 -s 16 -k 1M https://huggingface.co/camenduru/HunyuanVideo/raw/main/text_encoder_2/vocab.json -d /workspace/HunyuanVideo/ckpts/text_encoder_2 -o vocab.json\n",
    "\n",
    "# %cd /workspace/HunyuanVideo\n",
    "# !python hyvideo/utils/preprocess_text_encoder_tokenizer_utils.py --input_dir ckpts/llava-llama-3-8b-v1_1-transformers --output_dir ckpts/text_encoder\n",
    "\n",
    "%cd /workspace/HunyuanVideo\n",
    "!python sample_video.py \\\n",
    "        --video-size 720 1280 \\\n",
    "        --video-length 129 \\\n",
    "        --infer-steps 30 \\\n",
    "        --prompt \"a cat is running, realistic.\" \\\n",
    "        --flow-reverse \\\n",
    "        --seed 0 \\\n",
    "        --use-cpu-offload \\\n",
    "        --save-path ./results"
   ]
  }
 ],
 "metadata": {
  "language_info": {
   "name": "python"
  }
 },
 "nbformat": 4,
 "nbformat_minor": 2
}
